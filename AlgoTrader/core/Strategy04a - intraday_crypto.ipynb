{
 "cells": [
  {
   "cell_type": "code",
   "execution_count": 1,
   "outputs": [],
   "source": [
    "import pandas as pd\n",
    "\n",
    "import os.path\n",
    "\n",
    "from AlgoTrader.core.trader.ATrader import ATrader\n",
    "from trader.AlphaVantage import AlphaVantage\n",
    "\n",
    "from trader.Iterator import Iterator"
   ],
   "metadata": {
    "collapsed": false,
    "pycharm": {
     "name": "#%%\n"
    }
   }
  },
  {
   "cell_type": "code",
   "execution_count": 2,
   "outputs": [
    {
     "name": "stdout",
     "output_type": "stream",
     "text": [
      "use existed file\n"
     ]
    }
   ],
   "source": [
    "crypto_currency = 'BTC'\n",
    "file_name = 'crypto_intraday_' + crypto_currency + '.csv'\n",
    "\n",
    "if not os.path.isfile(file_name):\n",
    "    client = AlphaVantage()\n",
    "    df = client.get_crypto_intra_dataframe(crypto_currency)\n",
    "    df.to_csv(file_name)\n",
    "else:\n",
    "    print('use existed file')\n",
    "\n",
    "df = pd.read_csv(file_name, index_col=1)\n"
   ],
   "metadata": {
    "collapsed": false,
    "pycharm": {
     "name": "#%%\n"
    }
   }
  }
 ],
 "metadata": {
  "kernelspec": {
   "display_name": "Python 3",
   "language": "python",
   "name": "python3"
  },
  "language_info": {
   "codemirror_mode": {
    "name": "ipython",
    "version": 2
   },
   "file_extension": ".py",
   "mimetype": "text/x-python",
   "name": "python",
   "nbconvert_exporter": "python",
   "pygments_lexer": "ipython2",
   "version": "2.7.6"
  }
 },
 "nbformat": 4,
 "nbformat_minor": 0
}