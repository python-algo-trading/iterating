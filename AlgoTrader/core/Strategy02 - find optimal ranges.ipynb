{
 "cells": [
  {
   "cell_type": "code",
   "execution_count": 10,
   "outputs": [
    {
     "name": "stdout",
     "output_type": "stream",
     "text": [
      "use existed file\n",
      "The history saving thread hit an unexpected error (OperationalError('attempt to write a readonly database')).History will not be written to the database.\n"
     ]
    }
   ],
   "source": [
    "from trader.AlphaVantage import AlphaVantage\n",
    "\n",
    "from trader.Iterator import Iterator\n",
    "\n",
    "import pandas as pd\n",
    "\n",
    "import os.path\n",
    "\n",
    "symbol = 'GOOGL'\n",
    "fname =  symbol + '.csv'\n",
    "\n",
    "if not os.path.isfile(fname):\n",
    "    interval = 'Daily'\n",
    "    client = AlphaVantage()\n",
    "    df = client.get_dataframe('TIME_SERIES_DAILY', symbol, interval)\n",
    "    df.to_csv(fname)\n",
    "else:\n",
    "    print('use existed file')\n",
    "\n",
    "df = pd.read_csv(fname)"
   ],
   "metadata": {
    "collapsed": false,
    "pycharm": {
     "name": "#%%\n"
    }
   }
  },
  {
   "cell_type": "code",
   "execution_count": 11,
   "outputs": [],
   "source": [
    "portfolio = 2000\n",
    "lot = 40"
   ],
   "metadata": {
    "collapsed": false,
    "pycharm": {
     "name": "#%%\n"
    }
   }
  },
  {
   "cell_type": "code",
   "execution_count": 12,
   "outputs": [
    {
     "data": {
      "text/plain": "   sensitive   delta safe      %\n44        11  48.883   19  119.0\n3         10  48.883   18  115.0\n41         8  48.883   19  110.0\n81         8  48.883   20  110.0\n82         9  48.883   20  110.0",
      "text/html": "<div>\n<style scoped>\n    .dataframe tbody tr th:only-of-type {\n        vertical-align: middle;\n    }\n\n    .dataframe tbody tr th {\n        vertical-align: top;\n    }\n\n    .dataframe thead th {\n        text-align: right;\n    }\n</style>\n<table border=\"1\" class=\"dataframe\">\n  <thead>\n    <tr style=\"text-align: right;\">\n      <th></th>\n      <th>sensitive</th>\n      <th>delta</th>\n      <th>safe</th>\n      <th>%</th>\n    </tr>\n  </thead>\n  <tbody>\n    <tr>\n      <th>44</th>\n      <td>11</td>\n      <td>48.883</td>\n      <td>19</td>\n      <td>119.0</td>\n    </tr>\n    <tr>\n      <th>3</th>\n      <td>10</td>\n      <td>48.883</td>\n      <td>18</td>\n      <td>115.0</td>\n    </tr>\n    <tr>\n      <th>41</th>\n      <td>8</td>\n      <td>48.883</td>\n      <td>19</td>\n      <td>110.0</td>\n    </tr>\n    <tr>\n      <th>81</th>\n      <td>8</td>\n      <td>48.883</td>\n      <td>20</td>\n      <td>110.0</td>\n    </tr>\n    <tr>\n      <th>82</th>\n      <td>9</td>\n      <td>48.883</td>\n      <td>20</td>\n      <td>110.0</td>\n    </tr>\n  </tbody>\n</table>\n</div>"
     },
     "execution_count": 12,
     "metadata": {},
     "output_type": "execute_result"
    }
   ],
   "source": [
    "it = Iterator(df)\n",
    "compose_df = it.calculate(it.compose_iterator_dataframe())\n",
    "compose_df.head()"
   ],
   "metadata": {
    "collapsed": false,
    "pycharm": {
     "name": "#%%\n"
    }
   }
  }
 ],
 "metadata": {
  "kernelspec": {
   "display_name": "Python 3",
   "language": "python",
   "name": "python3"
  },
  "language_info": {
   "codemirror_mode": {
    "name": "ipython",
    "version": 2
   },
   "file_extension": ".py",
   "mimetype": "text/x-python",
   "name": "python",
   "nbconvert_exporter": "python",
   "pygments_lexer": "ipython2",
   "version": "2.7.6"
  }
 },
 "nbformat": 4,
 "nbformat_minor": 0
}