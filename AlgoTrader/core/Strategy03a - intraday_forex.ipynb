{
 "cells": [
  {
   "cell_type": "code",
   "execution_count": 1,
   "outputs": [],
   "source": [
    "import pandas as pd\n",
    "\n",
    "import os.path\n",
    "\n",
    "from AlgoTrader.core.trader.ATrader import ATrader\n",
    "from trader.AlphaVantage import AlphaVantage\n",
    "\n",
    "from trader.Iterator import Iterator"
   ],
   "metadata": {
    "collapsed": false,
    "pycharm": {
     "name": "#%%\n"
    }
   }
  },
  {
   "cell_type": "code",
   "execution_count": 3,
   "outputs": [
    {
     "name": "stdout",
     "output_type": "stream",
     "text": [
      "{'function': 'FX_INTRADAY', 'from_symbol': 'EUR', 'to_symbol': 'RUB', 'apikey': '771S6K1TQH832PEU', 'datatype': 'csv', 'outputsize': 'full', 'interval': '1min'}\n"
     ]
    }
   ],
   "source": [
    "from_symbol = 'EUR'\n",
    "to_symbol = 'RUB'\n",
    "file_name = 'intra_day_' + from_symbol + '_' + to_symbol + '.csv'\n",
    "\n",
    "if not os.path.isfile(file_name):\n",
    "    client = AlphaVantage()\n",
    "    df = client.get_forex_intraday_dataframe(from_symbol, to_symbol)\n",
    "    df.to_csv(file_name)\n",
    "else:\n",
    "    print('use existed file')\n",
    "\n",
    "df = pd.read_csv(file_name, index_col=1)\n"
   ],
   "metadata": {
    "collapsed": false,
    "pycharm": {
     "name": "#%%\n"
    }
   }
  }
 ],
 "metadata": {
  "kernelspec": {
   "display_name": "Python 3",
   "language": "python",
   "name": "python3"
  },
  "language_info": {
   "codemirror_mode": {
    "name": "ipython",
    "version": 2
   },
   "file_extension": ".py",
   "mimetype": "text/x-python",
   "name": "python",
   "nbconvert_exporter": "python",
   "pygments_lexer": "ipython2",
   "version": "2.7.6"
  }
 },
 "nbformat": 4,
 "nbformat_minor": 0
}