{
 "cells": [
  {
   "cell_type": "code",
   "execution_count": 3,
   "id": "fdd79acd",
   "metadata": {},
   "outputs": [],
   "source": [
    "API_KEY = '771S6K1TQH832PEU'"
   ]
  },
  {
   "cell_type": "code",
   "execution_count": null,
   "id": "2812fb90",
   "metadata": {},
   "outputs": [],
   "source": []
  }
 ],
 "metadata": {
  "kernelspec": {
   "display_name": "Python 3",
   "language": "python",
   "name": "python3"
  },
  "language_info": {
   "codemirror_mode": {
    "name": "ipython",
    "version": 3
   },
   "file_extension": ".py",
   "mimetype": "text/x-python",
   "name": "python",
   "nbconvert_exporter": "python",
   "pygments_lexer": "ipython3",
   "version": "3.8.8"
  }
 },
 "nbformat": 4,
 "nbformat_minor": 5
}
