{
 "cells": [
  {
   "cell_type": "code",
   "execution_count": 1,
   "outputs": [],
   "source": [
    "import diff as diff\n",
    "import numpy as np\n",
    "import pandas as pd\n",
    "\n",
    "import os.path\n",
    "\n",
    "from AlgoTrader.core.trader.AlgoTrader import AlgoTrader\n",
    "from AlgoTrader.core.trader.AlgoIterator import AlgoIterator\n",
    "from AlgoTrader.core.trader.strategies.MinTrendStrategy import MinTrendStrategy\n",
    "from trader.AlphaVantage import AlphaVantage"
   ],
   "metadata": {
    "collapsed": false,
    "pycharm": {
     "name": "#%%\n"
    }
   }
  },
  {
   "cell_type": "code",
   "execution_count": 2,
   "outputs": [
    {
     "name": "stdout",
     "output_type": "stream",
     "text": [
      "use existed file\n"
     ]
    }
   ],
   "source": [
    "crypto_currency = 'BTC'\n",
    "file_name = 'crypto_intraday_' + crypto_currency + '.csv'\n",
    "\n",
    "if not os.path.isfile(file_name):\n",
    "    client = AlphaVantage()\n",
    "    df = client.get_crypto_intra_dataframe(crypto_currency)\n",
    "    df.to_csv(file_name)\n",
    "else:\n",
    "    print('use existed file')\n",
    "\n",
    "df = pd.read_csv(file_name, index_col=1)"
   ],
   "metadata": {
    "collapsed": false,
    "pycharm": {
     "name": "#%%\n"
    }
   }
  },
  {
   "cell_type": "code",
   "execution_count": 3,
   "outputs": [],
   "source": [
    "diffs = np.arange(20, 100, 20)\n",
    "delays = np.arange(10, 50, 10)\n",
    "mas = np.arange(10, 100, 10)\n",
    "\n",
    "def trade(row):\n",
    "    cycle_trader = AlgoTrader(\n",
    "        MinTrendStrategy(\n",
    "            df.copy(),\n",
    "            diff=row['diff'],\n",
    "            delay=row['delay'],\n",
    "            ma=row['ma'],\n",
    "        )\n",
    "    )\n",
    "    cycle_trader.trade(2000, 100)\n",
    "    return cycle_trader.percent\n",
    "\n",
    "algo_iterator = AlgoIterator(\n",
    "    df.copy(),\n",
    "    {\n",
    "        'diff': diffs,\n",
    "        'delay': delays,\n",
    "        'ma': mas,\n",
    "    },\n",
    "    trade,\n",
    ")"
   ],
   "metadata": {
    "collapsed": false,
    "pycharm": {
     "name": "#%%\n"
    }
   }
  },
  {
   "cell_type": "code",
   "execution_count": 4,
   "outputs": [
    {
     "data": {
      "text/plain": "    diff delay  ma    %\n0     20    10  10  NaN\n1     20    10  20  NaN\n2     20    10  30  NaN\n3     20    10  40  NaN\n4     20    10  50  NaN\n..   ...   ...  ..  ...\n139   80    40  50  NaN\n140   80    40  60  NaN\n141   80    40  70  NaN\n142   80    40  80  NaN\n143   80    40  90  NaN\n\n[144 rows x 4 columns]",
      "text/html": "<div>\n<style scoped>\n    .dataframe tbody tr th:only-of-type {\n        vertical-align: middle;\n    }\n\n    .dataframe tbody tr th {\n        vertical-align: top;\n    }\n\n    .dataframe thead th {\n        text-align: right;\n    }\n</style>\n<table border=\"1\" class=\"dataframe\">\n  <thead>\n    <tr style=\"text-align: right;\">\n      <th></th>\n      <th>diff</th>\n      <th>delay</th>\n      <th>ma</th>\n      <th>%</th>\n    </tr>\n  </thead>\n  <tbody>\n    <tr>\n      <th>0</th>\n      <td>20</td>\n      <td>10</td>\n      <td>10</td>\n      <td>NaN</td>\n    </tr>\n    <tr>\n      <th>1</th>\n      <td>20</td>\n      <td>10</td>\n      <td>20</td>\n      <td>NaN</td>\n    </tr>\n    <tr>\n      <th>2</th>\n      <td>20</td>\n      <td>10</td>\n      <td>30</td>\n      <td>NaN</td>\n    </tr>\n    <tr>\n      <th>3</th>\n      <td>20</td>\n      <td>10</td>\n      <td>40</td>\n      <td>NaN</td>\n    </tr>\n    <tr>\n      <th>4</th>\n      <td>20</td>\n      <td>10</td>\n      <td>50</td>\n      <td>NaN</td>\n    </tr>\n    <tr>\n      <th>...</th>\n      <td>...</td>\n      <td>...</td>\n      <td>...</td>\n      <td>...</td>\n    </tr>\n    <tr>\n      <th>139</th>\n      <td>80</td>\n      <td>40</td>\n      <td>50</td>\n      <td>NaN</td>\n    </tr>\n    <tr>\n      <th>140</th>\n      <td>80</td>\n      <td>40</td>\n      <td>60</td>\n      <td>NaN</td>\n    </tr>\n    <tr>\n      <th>141</th>\n      <td>80</td>\n      <td>40</td>\n      <td>70</td>\n      <td>NaN</td>\n    </tr>\n    <tr>\n      <th>142</th>\n      <td>80</td>\n      <td>40</td>\n      <td>80</td>\n      <td>NaN</td>\n    </tr>\n    <tr>\n      <th>143</th>\n      <td>80</td>\n      <td>40</td>\n      <td>90</td>\n      <td>NaN</td>\n    </tr>\n  </tbody>\n</table>\n<p>144 rows × 4 columns</p>\n</div>"
     },
     "execution_count": 4,
     "metadata": {},
     "output_type": "execute_result"
    }
   ],
   "source": [
    "algo_iterator.report_df"
   ],
   "metadata": {
    "collapsed": false,
    "pycharm": {
     "name": "#%%\n"
    }
   }
  },
  {
   "cell_type": "code",
   "execution_count": 5,
   "outputs": [],
   "source": [
    "algo_iterator.iterate_trading()"
   ],
   "metadata": {
    "collapsed": false,
    "pycharm": {
     "name": "#%%\n"
    }
   }
  },
  {
   "cell_type": "code",
   "execution_count": 6,
   "outputs": [
    {
     "data": {
      "text/plain": "    diff delay   ma    %\n63    40    40   10  0.9\n60    40    30   70  0.9\n99    60    40   10  0.9\n16    20    20   80  0.9\n5     20    10   60  0.8\n..   ...   ...  ...  ...\n139  NaN   NaN  NaN  NaN\n140  NaN   NaN  NaN  NaN\n141  NaN   NaN  NaN  NaN\n142  NaN   NaN  NaN  NaN\n143  NaN   NaN  NaN  NaN\n\n[144 rows x 4 columns]",
      "text/html": "<div>\n<style scoped>\n    .dataframe tbody tr th:only-of-type {\n        vertical-align: middle;\n    }\n\n    .dataframe tbody tr th {\n        vertical-align: top;\n    }\n\n    .dataframe thead th {\n        text-align: right;\n    }\n</style>\n<table border=\"1\" class=\"dataframe\">\n  <thead>\n    <tr style=\"text-align: right;\">\n      <th></th>\n      <th>diff</th>\n      <th>delay</th>\n      <th>ma</th>\n      <th>%</th>\n    </tr>\n  </thead>\n  <tbody>\n    <tr>\n      <th>63</th>\n      <td>40</td>\n      <td>40</td>\n      <td>10</td>\n      <td>0.9</td>\n    </tr>\n    <tr>\n      <th>60</th>\n      <td>40</td>\n      <td>30</td>\n      <td>70</td>\n      <td>0.9</td>\n    </tr>\n    <tr>\n      <th>99</th>\n      <td>60</td>\n      <td>40</td>\n      <td>10</td>\n      <td>0.9</td>\n    </tr>\n    <tr>\n      <th>16</th>\n      <td>20</td>\n      <td>20</td>\n      <td>80</td>\n      <td>0.9</td>\n    </tr>\n    <tr>\n      <th>5</th>\n      <td>20</td>\n      <td>10</td>\n      <td>60</td>\n      <td>0.8</td>\n    </tr>\n    <tr>\n      <th>...</th>\n      <td>...</td>\n      <td>...</td>\n      <td>...</td>\n      <td>...</td>\n    </tr>\n    <tr>\n      <th>139</th>\n      <td>NaN</td>\n      <td>NaN</td>\n      <td>NaN</td>\n      <td>NaN</td>\n    </tr>\n    <tr>\n      <th>140</th>\n      <td>NaN</td>\n      <td>NaN</td>\n      <td>NaN</td>\n      <td>NaN</td>\n    </tr>\n    <tr>\n      <th>141</th>\n      <td>NaN</td>\n      <td>NaN</td>\n      <td>NaN</td>\n      <td>NaN</td>\n    </tr>\n    <tr>\n      <th>142</th>\n      <td>NaN</td>\n      <td>NaN</td>\n      <td>NaN</td>\n      <td>NaN</td>\n    </tr>\n    <tr>\n      <th>143</th>\n      <td>NaN</td>\n      <td>NaN</td>\n      <td>NaN</td>\n      <td>NaN</td>\n    </tr>\n  </tbody>\n</table>\n<p>144 rows × 4 columns</p>\n</div>"
     },
     "execution_count": 6,
     "metadata": {},
     "output_type": "execute_result"
    }
   ],
   "source": [
    "algo_iterator.report_df"
   ],
   "metadata": {
    "collapsed": false,
    "pycharm": {
     "name": "#%%\n"
    }
   }
  }
 ],
 "metadata": {
  "kernelspec": {
   "display_name": "Python 3",
   "language": "python",
   "name": "python3"
  },
  "language_info": {
   "codemirror_mode": {
    "name": "ipython",
    "version": 2
   },
   "file_extension": ".py",
   "mimetype": "text/x-python",
   "name": "python",
   "nbconvert_exporter": "python",
   "pygments_lexer": "ipython2",
   "version": "2.7.6"
  }
 },
 "nbformat": 4,
 "nbformat_minor": 0
}