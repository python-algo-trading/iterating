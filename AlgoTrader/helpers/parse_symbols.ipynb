{
 "cells": [
  {
   "cell_type": "code",
   "execution_count": 13,
   "metadata": {
    "collapsed": true,
    "pycharm": {
     "name": "#%%\n"
    }
   },
   "outputs": [
    {
     "data": {
      "text/plain": "     Unnamed: 0 Symbol             Security SEC filings  \\\n0             0    MMM                   3M     reports   \n1             1    ABT  Abbott Laboratories     reports   \n2             2   ABBV               AbbVie     reports   \n3             3   ABMD              Abiomed     reports   \n4             4    ACN            Accenture     reports   \n..          ...    ...                  ...         ...   \n500         500    YUM          Yum! Brands     reports   \n501         501   ZBRA   Zebra Technologies     reports   \n502         502    ZBH        Zimmer Biomet     reports   \n503         503   ZION        Zions Bancorp     reports   \n504         504    ZTS               Zoetis     reports   \n\n                GICS Sector                   GICS Sub-Industry  \\\n0               Industrials            Industrial Conglomerates   \n1               Health Care               Health Care Equipment   \n2               Health Care                     Pharmaceuticals   \n3               Health Care               Health Care Equipment   \n4    Information Technology      IT Consulting & Other Services   \n..                      ...                                 ...   \n500  Consumer Discretionary                         Restaurants   \n501  Information Technology  Electronic Equipment & Instruments   \n502             Health Care               Health Care Equipment   \n503              Financials                      Regional Banks   \n504             Health Care                     Pharmaceuticals   \n\n       Headquarters Location Date first added      CIK      Founded  \n0      Saint Paul, Minnesota       1976-08-09    66740         1902  \n1    North Chicago, Illinois       1964-03-31     1800         1888  \n2    North Chicago, Illinois       2012-12-31  1551152  2013 (1888)  \n3     Danvers, Massachusetts       2018-05-31   815094         1981  \n4            Dublin, Ireland       2011-07-06  1467373         1989  \n..                       ...              ...      ...          ...  \n500     Louisville, Kentucky       1997-10-06  1041061         1997  \n501   Lincolnshire, Illinois       2019-12-23   877212         1969  \n502          Warsaw, Indiana       2001-08-07  1136869         1927  \n503     Salt Lake City, Utah       2001-06-22   109380         1873  \n504   Parsippany, New Jersey       2013-06-21  1555280         1952  \n\n[505 rows x 10 columns]",
      "text/html": "<div>\n<style scoped>\n    .dataframe tbody tr th:only-of-type {\n        vertical-align: middle;\n    }\n\n    .dataframe tbody tr th {\n        vertical-align: top;\n    }\n\n    .dataframe thead th {\n        text-align: right;\n    }\n</style>\n<table border=\"1\" class=\"dataframe\">\n  <thead>\n    <tr style=\"text-align: right;\">\n      <th></th>\n      <th>Unnamed: 0</th>\n      <th>Symbol</th>\n      <th>Security</th>\n      <th>SEC filings</th>\n      <th>GICS Sector</th>\n      <th>GICS Sub-Industry</th>\n      <th>Headquarters Location</th>\n      <th>Date first added</th>\n      <th>CIK</th>\n      <th>Founded</th>\n    </tr>\n  </thead>\n  <tbody>\n    <tr>\n      <th>0</th>\n      <td>0</td>\n      <td>MMM</td>\n      <td>3M</td>\n      <td>reports</td>\n      <td>Industrials</td>\n      <td>Industrial Conglomerates</td>\n      <td>Saint Paul, Minnesota</td>\n      <td>1976-08-09</td>\n      <td>66740</td>\n      <td>1902</td>\n    </tr>\n    <tr>\n      <th>1</th>\n      <td>1</td>\n      <td>ABT</td>\n      <td>Abbott Laboratories</td>\n      <td>reports</td>\n      <td>Health Care</td>\n      <td>Health Care Equipment</td>\n      <td>North Chicago, Illinois</td>\n      <td>1964-03-31</td>\n      <td>1800</td>\n      <td>1888</td>\n    </tr>\n    <tr>\n      <th>2</th>\n      <td>2</td>\n      <td>ABBV</td>\n      <td>AbbVie</td>\n      <td>reports</td>\n      <td>Health Care</td>\n      <td>Pharmaceuticals</td>\n      <td>North Chicago, Illinois</td>\n      <td>2012-12-31</td>\n      <td>1551152</td>\n      <td>2013 (1888)</td>\n    </tr>\n    <tr>\n      <th>3</th>\n      <td>3</td>\n      <td>ABMD</td>\n      <td>Abiomed</td>\n      <td>reports</td>\n      <td>Health Care</td>\n      <td>Health Care Equipment</td>\n      <td>Danvers, Massachusetts</td>\n      <td>2018-05-31</td>\n      <td>815094</td>\n      <td>1981</td>\n    </tr>\n    <tr>\n      <th>4</th>\n      <td>4</td>\n      <td>ACN</td>\n      <td>Accenture</td>\n      <td>reports</td>\n      <td>Information Technology</td>\n      <td>IT Consulting &amp; Other Services</td>\n      <td>Dublin, Ireland</td>\n      <td>2011-07-06</td>\n      <td>1467373</td>\n      <td>1989</td>\n    </tr>\n    <tr>\n      <th>...</th>\n      <td>...</td>\n      <td>...</td>\n      <td>...</td>\n      <td>...</td>\n      <td>...</td>\n      <td>...</td>\n      <td>...</td>\n      <td>...</td>\n      <td>...</td>\n      <td>...</td>\n    </tr>\n    <tr>\n      <th>500</th>\n      <td>500</td>\n      <td>YUM</td>\n      <td>Yum! Brands</td>\n      <td>reports</td>\n      <td>Consumer Discretionary</td>\n      <td>Restaurants</td>\n      <td>Louisville, Kentucky</td>\n      <td>1997-10-06</td>\n      <td>1041061</td>\n      <td>1997</td>\n    </tr>\n    <tr>\n      <th>501</th>\n      <td>501</td>\n      <td>ZBRA</td>\n      <td>Zebra Technologies</td>\n      <td>reports</td>\n      <td>Information Technology</td>\n      <td>Electronic Equipment &amp; Instruments</td>\n      <td>Lincolnshire, Illinois</td>\n      <td>2019-12-23</td>\n      <td>877212</td>\n      <td>1969</td>\n    </tr>\n    <tr>\n      <th>502</th>\n      <td>502</td>\n      <td>ZBH</td>\n      <td>Zimmer Biomet</td>\n      <td>reports</td>\n      <td>Health Care</td>\n      <td>Health Care Equipment</td>\n      <td>Warsaw, Indiana</td>\n      <td>2001-08-07</td>\n      <td>1136869</td>\n      <td>1927</td>\n    </tr>\n    <tr>\n      <th>503</th>\n      <td>503</td>\n      <td>ZION</td>\n      <td>Zions Bancorp</td>\n      <td>reports</td>\n      <td>Financials</td>\n      <td>Regional Banks</td>\n      <td>Salt Lake City, Utah</td>\n      <td>2001-06-22</td>\n      <td>109380</td>\n      <td>1873</td>\n    </tr>\n    <tr>\n      <th>504</th>\n      <td>504</td>\n      <td>ZTS</td>\n      <td>Zoetis</td>\n      <td>reports</td>\n      <td>Health Care</td>\n      <td>Pharmaceuticals</td>\n      <td>Parsippany, New Jersey</td>\n      <td>2013-06-21</td>\n      <td>1555280</td>\n      <td>1952</td>\n    </tr>\n  </tbody>\n</table>\n<p>505 rows × 10 columns</p>\n</div>"
     },
     "execution_count": 13,
     "metadata": {},
     "output_type": "execute_result"
    }
   ],
   "source": [
    "import pandas as pd\n",
    "\n",
    "# df = pd.read_html('https://en.wikipedia.org/wiki/List_of_S%26P_500_companies')\n",
    "# df[0].to_csv('symbols.csv')\n",
    "df = pd.read_csv('symbols.csv');\n",
    "df"
   ]
  }
 ],
 "metadata": {
  "kernelspec": {
   "display_name": "Python 3",
   "language": "python",
   "name": "python3"
  },
  "language_info": {
   "codemirror_mode": {
    "name": "ipython",
    "version": 2
   },
   "file_extension": ".py",
   "mimetype": "text/x-python",
   "name": "python",
   "nbconvert_exporter": "python",
   "pygments_lexer": "ipython2",
   "version": "2.7.6"
  }
 },
 "nbformat": 4,
 "nbformat_minor": 0
}